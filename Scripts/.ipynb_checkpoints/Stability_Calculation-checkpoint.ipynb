{
 "cells": [
  {
   "cell_type": "markdown",
   "id": "9f1393f9",
   "metadata": {},
   "source": [
    "File to calculate the trend and volatility of availability, accessibility, and utilisation stability"
   ]
  },
  {
   "cell_type": "code",
   "execution_count": null,
   "id": "bd55517a",
   "metadata": {},
   "outputs": [],
   "source": [
    "from sklearn.linear_model import LinearRegression\n",
    "import pandas as pd\n",
    "import numpy as np"
   ]
  },
  {
   "cell_type": "code",
   "execution_count": null,
   "id": "88dce859",
   "metadata": {},
   "outputs": [],
   "source": [
    "#Data Directory where you have data for all the indicators.\n",
    "filLoc = \"..//DataSet\""
   ]
  },
  {
   "cell_type": "code",
   "execution_count": null,
   "id": "61bf4290",
   "metadata": {},
   "outputs": [],
   "source": [
    "df =pd.DataFrame(columns = [\"Country\",\"Trend\",\"Variability\"])\n",
    "\n",
    "with os.scandir(filLoc) as root_dir:\n",
    "    for path in root_dir:\n",
    "         if path.is_file():\n",
    "#             print(path.name.split('.')[0])\n",
    "            #Enter relevant indicator for calcuating the stability of the dimension\n",
    "            if path.name.split('.')[0] in [\"Prevalence of undernourishment\"]:\n",
    "                data = pd.read_csv(path,encoding = 'latin-1')\n",
    "                data['Country'] = data[\"Country\"].str.lstrip()\n",
    "                cols = [i for i in data.columns if i!=\"Country\"]\n",
    "                data.index = data[\"Country\"]\n",
    "                \n",
    "                de = data.rolling(3,axis=1).mean().reset_index()\n",
    "\n",
    "                temp = pd.melt(de,id_vars=[\"Country\"], var_name = \"Year\", value_vars=cols,value_name = \"Value\")\n",
    "                temp = temp.dropna(subset = [\"Value\"])\n",
    "                print(temp.head())\n",
    "                for k in temp[\"Country\"].unique():\n",
    "                    df = df.append({\"Country\":k,\n",
    "                               \"Trend\": retSlope(temp[temp[\"Country\"]==k]),\n",
    "                               \"Variability\": retStd(temp[temp[\"Country\"]==k])\n",
    "                               \n",
    "                              },ignore_index=True)\n",
    "\n",
    "df.to_csv(filLoc+'\\\\Utilization trend.csv', index = False)   "
   ]
  }
 ],
 "metadata": {
  "kernelspec": {
   "display_name": "Python 3 (ipykernel)",
   "language": "python",
   "name": "python3"
  },
  "language_info": {
   "codemirror_mode": {
    "name": "ipython",
    "version": 3
   },
   "file_extension": ".py",
   "mimetype": "text/x-python",
   "name": "python",
   "nbconvert_exporter": "python",
   "pygments_lexer": "ipython3",
   "version": "3.10.6"
  }
 },
 "nbformat": 4,
 "nbformat_minor": 5
}
